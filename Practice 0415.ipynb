{
 "cells": [
  {
   "cell_type": "markdown",
   "metadata": {},
   "source": [
    "## 크롤링 전 웹 사이트 기본 지식 익히기"
   ]
  },
  {
   "cell_type": "code",
   "execution_count": 20,
   "metadata": {},
   "outputs": [
    {
     "name": "stdout",
     "output_type": "stream",
     "text": [
      "美, 한국 등 11개국 '환율관찰대상국' 유지..'조작국'은 없어(종합2보)\n"
     ]
    }
   ],
   "source": [
    "import requests\n",
    "from bs4 import BeautifulSoup\n",
    "res = requests.get('https://news.v.daum.net/v/20210417085138616')\n",
    "soup = BeautifulSoup(res.content,'html.parser')\n",
    "mydata = soup.find('title')\n",
    "print(mydata.get_text())"
   ]
  },
  {
   "cell_type": "code",
   "execution_count": 14,
   "metadata": {},
   "outputs": [
    {
     "ename": "SyntaxError",
     "evalue": "invalid syntax (<ipython-input-14-9a92249e322a>, line 5)",
     "output_type": "error",
     "traceback": [
      "\u001b[1;36m  File \u001b[1;32m\"<ipython-input-14-9a92249e322a>\"\u001b[1;36m, line \u001b[1;32m5\u001b[0m\n\u001b[1;33m    mydata = soup.find('p id='body')\u001b[0m\n\u001b[1;37m                              ^\u001b[0m\n\u001b[1;31mSyntaxError\u001b[0m\u001b[1;31m:\u001b[0m invalid syntax\n"
     ]
    }
   ],
   "source": [
    "import requests\n",
    "from bs4 import BeautifulSoup\n",
    "res = requests.get('https://news.v.daum.net/v/20210417085138616')\n",
    "soup = BeautifulSoup(res.content,'html.parser')\n",
    "mydata = soup.find('')\n",
    "\n",
    "print(mydata.string)"
   ]
  },
  {
   "cell_type": "markdown",
   "metadata": {},
   "source": [
    "# 비슷한 태그의 데이터를 가져오려면\n",
    "\n",
    "data = soup.find('p',class_='cssstyle')\n",
    "data = soup.find('p','cssstyle')\n",
    "data = soup.find('p', attrs = {'align': 'center'}) # 아예 속성과 속성 값을 명시적으로 지정해주는 것 \n",
    "data = soup.find(id='body')\n",
    "\n",
    "data = soup.find_all('p') # 모든 데이터를 다 가져옴\n",
    "    print(item.string) # 모든 데이터를 가져올 때 사용하는 코드"
   ]
  },
  {
   "cell_type": "code",
   "execution_count": null,
   "metadata": {},
   "outputs": [],
   "source": []
  }
 ],
 "metadata": {
  "kernelspec": {
   "display_name": "Python 3",
   "language": "python",
   "name": "python3"
  },
  "language_info": {
   "codemirror_mode": {
    "name": "ipython",
    "version": 3
   },
   "file_extension": ".py",
   "mimetype": "text/x-python",
   "name": "python",
   "nbconvert_exporter": "python",
   "pygments_lexer": "ipython3",
   "version": "3.8.5"
  }
 },
 "nbformat": 4,
 "nbformat_minor": 4
}
