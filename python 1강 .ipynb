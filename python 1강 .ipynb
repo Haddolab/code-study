{
 "cells": [
  {
   "cell_type": "code",
   "execution_count": 3,
   "metadata": {},
   "outputs": [
    {
     "name": "stdout",
     "output_type": "stream",
     "text": [
      "지름은? 20\n",
      "둘레는? 62.830000000000005\n",
      "넓이는? 314.15000000000003\n"
     ]
    }
   ],
   "source": [
    "radius = 10 \n",
    "pi = 3.1415\n",
    "\n",
    "print (\"지름은?\", radius *2)\n",
    "print (\"둘레는?\", pi * radius * 2)\n",
    "print (\"넓이는?\", pi * radius ** 2)"
   ]
  },
  {
   "cell_type": "code",
   "execution_count": 5,
   "metadata": {},
   "outputs": [
    {
     "name": "stdout",
     "output_type": "stream",
     "text": [
      "seoha \n"
     ]
    }
   ],
   "source": [
    "name = input()"
   ]
  },
  {
   "cell_type": "code",
   "execution_count": 6,
   "metadata": {},
   "outputs": [
    {
     "data": {
      "text/plain": [
       "'seoha '"
      ]
     },
     "execution_count": 6,
     "metadata": {},
     "output_type": "execute_result"
    }
   ],
   "source": [
    "name"
   ]
  },
  {
   "cell_type": "code",
   "execution_count": 7,
   "metadata": {},
   "outputs": [
    {
     "name": "stdout",
     "output_type": "stream",
     "text": [
      "what is your name?seoha \n"
     ]
    }
   ],
   "source": [
    "name = input(\"what is your name?\")"
   ]
  },
  {
   "cell_type": "code",
   "execution_count": 8,
   "metadata": {},
   "outputs": [
    {
     "data": {
      "text/plain": [
       "3.0"
      ]
     },
     "execution_count": 8,
     "metadata": {},
     "output_type": "execute_result"
    }
   ],
   "source": [
    "float (3)"
   ]
  },
  {
   "cell_type": "code",
   "execution_count": 9,
   "metadata": {},
   "outputs": [
    {
     "data": {
      "text/plain": [
       "4"
      ]
     },
     "execution_count": 9,
     "metadata": {},
     "output_type": "execute_result"
    }
   ],
   "source": [
    "int (4.2)"
   ]
  },
  {
   "cell_type": "code",
   "execution_count": 10,
   "metadata": {},
   "outputs": [
    {
     "name": "stdout",
     "output_type": "stream",
     "text": [
      "<class 'str'>\n"
     ]
    }
   ],
   "source": [
    "digit_str = \"123\"\n",
    "print(type(digit_str))"
   ]
  },
  {
   "cell_type": "code",
   "execution_count": 11,
   "metadata": {},
   "outputs": [],
   "source": [
    "article = '''As we contemplate how to fill our time over the Christmas break, Netflix has gifted us one final new Korean series to help see out the long and strange year that was. Set in a post-apocalyptic dystopia in a derelict building that houses ass-kicking characters facing off against a dizzying array of monsters, Sweet Home is the 10-episode adaptation of the popular 2017 webtoon of the same name by Kim Kan-bi.\n",
    "Song Kang (Love Alarm) plays Hyun-su, a high-school-age shut-in who moves into a crumbling high-rise after the death of his family. He just wants to stay in his cramped flat and play video games, but when people around him start gushing blood out of their noses and behaving very strangely, he realises something has gone very wrong.\n",
    "So far, you’d be forgiven for wondering if this was the latest addition to the K-zombie fad, but before long this show proves itself to be something quite different from #Alive.\n",
    "\n",
    "The nosebleeds are the symptoms of a new disease ravaging the world, which is turning people into monsters. Other residents in the building, including tough firefighter Yi-kyung (Lee Si-young), the mysterious Sang-wook (Lee Jin-uk), cool bass player Ji-su (Park Gyu-young), cool-under-fire medical student Eun-hyuk (Lee Do-hyun) and his sister, the devil-may-care ballerina Eun-yu (Go Min-si), are all forced to face the same reality.\n",
    "Downstairs, the neighbours shut the front entrance after a narrow scrape and band together to survive. Meanwhile, Hyun-su develops his own nosebleed upstairs.\n",
    "\n",
    "Falling somewhere between The Walking Dead , The Raid and Attack the Block, with a few Korean dramatics and some demented monster design to spice the pot, Sweet Home is yet another bold new step for Korean drama. You will not find much romance here, but beyond a breathless opening episode and all the grisly fun the show has to offer, you also will not find much of a story to latch onto.\n",
    "Characters venture away from the blockaded first floor for supply runs and minor missions, but beyond that they don’t have much of a goal; this makes for a murky narrative, especially given its situation within the cramped confines of the building.\n",
    "EVERY FRIDAY\n",
    "K-Post Newsletter\n",
    "By submitting, you consent to receiving marketing emails from SCMP. If you don't want these, tick here\n",
    "By registering, you agree to our T&C and Privacy Policy\n",
    "After meandering around for much of its midsection, the series suddenly kicks into gear with a terrific and outrageous set piece that closes episode eight. This sequence is the absolute highlight of the show, as many of the floating parts up until that point – including a recurring theme that had largely been incongruous – come together in a cathartic, satisfying and orgiastic medley of blood, guts and melodrama.\n",
    "Park Gyu-young gets ready for some monster bashing in Sweet Home. Photo: Son Ik-Chung/Netflix\n",
    "Park Gyu-young gets ready for some monster bashing in Sweet Home. Photo: Son Ik-Chung/Netflix\n",
    "By the next episode, the characters all have something concrete to do – although largely at the expense of monster hunting – but there is far too much waiting around to get to that point.\n",
    "As a high-concept horror show, Sweet Home goes for broke, with much of its budget clearly splashed on creature design, which includes a gigantic eye with legs, a blind monster with half its head lopped off, and a pulsating monster fetus.\n",
    "The show has several horror influences, and references that include a character living in Apt 1408 (the name of a film based on a Stephen King short story), a barbed wire-wrapped baseball modelled after Lucille’s in The Walking Dead, the Zombieland -like rules of survival that pop up in episode six, and a strong, athlete-like monster reminiscent of that in I Am a Hero .\n",
    "\n",
    "Not unlike the more melodramatic series that South Korea is known for, Sweet Home cranks everything up to 11. The characters are largely (fun) caricatures and even the air inside building isn’t content with just being air, as it’s generally filled with floating detritus, whether that is blood, smoke, ash or snow.\n",
    "This everything-and-the-kitchen-sink approach extends to the soundtrack, which blares out ill-fitting anthems at inopportune moments when it’s not aping Hans Zimmer themes from Interstellar.\n",
    "Criticisms aside, there is a lot of fun to be had from the series, including the moment when the ever genial Kim Sang-ho (known for his role as the Crown Prince’s trusty bodyguard in Kingdom ) shows up on a window ledge with his custom crutch gun while swigging from a bottle simply labelled “ice cold”.\n",
    "Kim Sang-ho provides some comic relief in Sweet Home. Photo: Son Ik-Chung/Netflix.\n",
    "Kim Sang-ho provides some comic relief in Sweet Home. Photo: Son Ik-Chung/Netflix.\n",
    "The one thing that the show consistently does well is showcase its monsters, because in the end, what’s home sweet home without a few monsters under the bed?\n",
    "Sweet Home is streaming on Netflix.\n",
    "For more great stories on Korean entertainment, artist profiles and the latest news, visit K-post, SCMP's K-pop hub.'''"
   ]
  },
  {
   "cell_type": "code",
   "execution_count": 19,
   "metadata": {},
   "outputs": [
    {
     "name": "stdout",
     "output_type": "stream",
     "text": [
      "6\n",
      "5037\n",
      "101\n"
     ]
    }
   ],
   "source": [
    "print (article.count(\"Netflix\"))\n",
    "print (len(article))\n",
    "print (article.find(\"Korean\"))\n"
   ]
  },
  {
   "cell_type": "code",
   "execution_count": 24,
   "metadata": {},
   "outputs": [
    {
     "name": "stdout",
     "output_type": "stream",
     "text": [
      "   computer   \n"
     ]
    },
    {
     "data": {
      "text/plain": [
       "'computer'"
      ]
     },
     "execution_count": 24,
     "metadata": {},
     "output_type": "execute_result"
    }
   ],
   "source": [
    "some_string = \"   computer   \"\n",
    "print(some_string)\n",
    "some_string.strip(\" \")"
   ]
  },
  {
   "cell_type": "code",
   "execution_count": 27,
   "metadata": {},
   "outputs": [
    {
     "name": "stdout",
     "output_type": "stream",
     "text": [
      "i have a pen, I have an apple.\n"
     ]
    }
   ],
   "source": [
    "print(\"i have a {}, I have an {}.\" .format(\"pen\", \"apple\"))"
   ]
  },
  {
   "cell_type": "code",
   "execution_count": 28,
   "metadata": {},
   "outputs": [
    {
     "name": "stdout",
     "output_type": "stream",
     "text": [
      "0.09\n"
     ]
    }
   ],
   "source": [
    "interest = 0.087\n",
    "print (format(interest,\".2f\"))"
   ]
  }
 ],
 "metadata": {
  "kernelspec": {
   "display_name": "Python 3",
   "language": "python",
   "name": "python3"
  },
  "language_info": {
   "codemirror_mode": {
    "name": "ipython",
    "version": 3
   },
   "file_extension": ".py",
   "mimetype": "text/x-python",
   "name": "python",
   "nbconvert_exporter": "python",
   "pygments_lexer": "ipython3",
   "version": "3.8.5"
  }
 },
 "nbformat": 4,
 "nbformat_minor": 4
}
