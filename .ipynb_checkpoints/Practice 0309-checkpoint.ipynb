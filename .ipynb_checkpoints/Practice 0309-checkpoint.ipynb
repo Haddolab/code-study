{
 "cells": [
  {
   "cell_type": "markdown",
   "metadata": {},
   "source": [
    "# 클래스"
   ]
  },
  {
   "cell_type": "code",
   "execution_count": 7,
   "metadata": {},
   "outputs": [],
   "source": [
    "class  Qurd():\n",
    "    width = 0\n",
    "    height = 0 \n",
    "    color = ''\n",
    "    name = 'Madelene'\n",
    "    \n",
    "    def qurd_name(self): #만약에 인자가 하나 이상일 경우 (self, argument1, argument2)이렇게 정의해주면 됨 그리고 attribute 를 작성하면 됨 \n",
    "        return self.name\n",
    "    "
   ]
  },
  {
   "cell_type": "markdown",
   "metadata": {},
   "source": [
    "# 객체 생성"
   ]
  },
  {
   "cell_type": "code",
   "execution_count": 5,
   "metadata": {},
   "outputs": [],
   "source": [
    "quad1 = Qurd()\n",
    "quad2 = Qurd()"
   ]
  },
  {
   "cell_type": "markdown",
   "metadata": {},
   "source": [
    "# 객체 기능 호출"
   ]
  },
  {
   "cell_type": "code",
   "execution_count": 10,
   "metadata": {},
   "outputs": [],
   "source": [
    "quad1.width = 10"
   ]
  },
  {
   "cell_type": "code",
   "execution_count": 11,
   "metadata": {},
   "outputs": [
    {
     "name": "stdout",
     "output_type": "stream",
     "text": [
      "10 0\n"
     ]
    }
   ],
   "source": [
    "print (quad1.width, quad2. width)"
   ]
  },
  {
   "cell_type": "markdown",
   "metadata": {},
   "source": [
    "객체마다 설계도만 똑같은 거지, 실제 객체에서 가지고 오는 값은 조작할 수 있다. "
   ]
  },
  {
   "cell_type": "code",
   "execution_count": 14,
   "metadata": {},
   "outputs": [],
   "source": [
    "quad1.width = 10\n",
    "quad1.height = 10\n",
    "quad1.color = 'blue'\n",
    "quad1.name = 'blue 사각형'\n",
    "\n",
    "quad2.width = 5\n",
    "quad2.height = 5\n",
    "quad2.color = 'yellow'\n",
    "quad2.name = 'yellow 사각형'\n"
   ]
  },
  {
   "cell_type": "code",
   "execution_count": 15,
   "metadata": {},
   "outputs": [
    {
     "name": "stdout",
     "output_type": "stream",
     "text": [
      "10 5\n"
     ]
    }
   ],
   "source": [
    "print(quad1.width, quad2.width)"
   ]
  },
  {
   "cell_type": "markdown",
   "metadata": {},
   "source": [
    "## 크롤링 코드 실습"
   ]
  },
  {
   "cell_type": "markdown",
   "metadata": {},
   "source": [
    "## 크롤링 핵심 코드 패턴으로 이해하기 \n",
    "\n",
    "import requests\n",
    "from bs4 import BeautifulSoup\n",
    "res = requests.get('h')  \n",
    "soup = BeautifulSoup(res.content,'html.parser')\n",
    "mydata = soup.find('title')\n",
    "print(mydata.get_text())\n",
    "\n",
    "\n"
   ]
  },
  {
   "cell_type": "code",
   "execution_count": null,
   "metadata": {},
   "outputs": [],
   "source": [
    "import requests\n",
    "from bs4 import BeautifulSoup "
   ]
  },
  {
   "cell_type": "code",
   "execution_count": null,
   "metadata": {},
   "outputs": [],
   "source": [
    "res = requests.get('https://news.v.daum.net/v/20210309212848281') \n",
    "# 'request' 라이브러리에서 'get'이라는 method 를 사용. \n",
    "#method 에는 인자를 하나 받는데 그게 웹 페이지 . \n",
    "#웹 페이지 변수가 res 정보 안으로 들어가게 됨 "
   ]
  },
  {
   "cell_type": "code",
   "execution_count": 2,
   "metadata": {},
   "outputs": [
    {
     "name": "stdout",
     "output_type": "stream",
     "text": [
      "OECD \"韓, 올해 코로나 이전 회복\"\n"
     ]
    }
   ],
   "source": [
    "import requests\n",
    "from bs4 import BeautifulSoup\n",
    "res = requests.get('https://news.v.daum.net/v/20210309212848281')  \n",
    "soup = BeautifulSoup(res.content,'html.parser')\n",
    "mydata = soup.find('title')\n",
    "print(mydata.get_text())\n"
   ]
  },
  {
   "cell_type": "code",
   "execution_count": null,
   "metadata": {},
   "outputs": [],
   "source": []
  }
 ],
 "metadata": {
  "kernelspec": {
   "display_name": "Python 3",
   "language": "python",
   "name": "python3"
  },
  "language_info": {
   "codemirror_mode": {
    "name": "ipython",
    "version": 3
   },
   "file_extension": ".py",
   "mimetype": "text/x-python",
   "name": "python",
   "nbconvert_exporter": "python",
   "pygments_lexer": "ipython3",
   "version": "3.8.5"
  }
 },
 "nbformat": 4,
 "nbformat_minor": 4
}
